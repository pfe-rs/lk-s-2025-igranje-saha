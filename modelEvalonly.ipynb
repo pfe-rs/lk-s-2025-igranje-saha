{
 "cells": [
  {
   "cell_type": "code",
   "execution_count": 6,
   "metadata": {},
   "outputs": [
    {
     "name": "stdout",
     "output_type": "stream",
     "text": [
      "Using device: cuda\n"
     ]
    }
   ],
   "source": [
    "import numpy as np\n",
    "import pandas as pd\n",
    "import chess\n",
    "import torch\n",
    "from torch.utils.data import Dataset, DataLoader, random_split\n",
    "from sklearn.model_selection import train_test_split\n",
    "import matplotlib.pyplot as plt\n",
    "from tqdm.notebook import tqdm\n",
    "import torch.nn.functional as F\n",
    "import torch.nn as nn\n",
    "\n",
    "device = torch.device('cuda' if torch.cuda.is_available() else 'cpu')\n",
    "print(f\"Using device: {device}\")"
   ]
  },
  {
   "cell_type": "markdown",
   "metadata": {},
   "source": [
    "# DATASET CLASS"
   ]
  },
  {
   "cell_type": "code",
   "execution_count": 7,
   "metadata": {},
   "outputs": [],
   "source": [
    "import torch\n",
    "from torch.utils.data import Dataset\n",
    "import chess\n",
    "\n",
    "class EvalOnlyChessDataset(Dataset):\n",
    "    def __init__(self, dataframe):\n",
    "        self.data = dataframe.values\n",
    "        \n",
    "    def __len__(self):\n",
    "        return len(self.data)\n",
    "    \n",
    "    def __getitem__(self, idx):\n",
    "        fen, evaluation = self.data[idx]\n",
    "\n",
    "        board_tensor = torch.zeros((20, 8, 8), dtype=torch.float32)\n",
    "        board = chess.Board(fen)\n",
    "\n",
    "        piece_map = {\n",
    "            'P': 0, 'N': 1, 'B': 2, 'R': 3, 'Q': 4, 'K': 5,\n",
    "            'p': 6, 'n': 7, 'b': 8, 'r': 9, 'q': 10, 'k': 11\n",
    "        }\n",
    "\n",
    "        for square in chess.SQUARES:\n",
    "            piece = board.piece_at(square)\n",
    "            if piece:\n",
    "                rank, file = 7 - square // 8, square % 8\n",
    "                board_tensor[piece_map[piece.symbol()], rank, file] = 1\n",
    "\n",
    "        board_tensor[12] = 1.0 if board.turn == chess.WHITE else -1.0               # IZMENJENO - BITNO\n",
    "        board_tensor[13] = int(board.has_kingside_castling_rights(chess.WHITE))\n",
    "        board_tensor[14] = int(board.has_queenside_castling_rights(chess.WHITE))\n",
    "        board_tensor[15] = int(board.has_kingside_castling_rights(chess.BLACK))\n",
    "        board_tensor[16] = int(board.has_queenside_castling_rights(chess.BLACK))\n",
    "        board_tensor[17] = int(board.has_legal_en_passant())\n",
    "        board_tensor[18] = board.halfmove_clock / 50.0\n",
    "        board_tensor[19] = board.fullmove_number / 100.0\n",
    "\n",
    "        eval_value = evaluation\n",
    "\n",
    "        eval_value = max(min(eval_value, 10.0), -10.0)\n",
    "        eval_value /= 10.0\n",
    "\n",
    "        return board_tensor, torch.tensor(eval_value, dtype=torch.float32)\n"
   ]
  },
  {
   "cell_type": "code",
   "execution_count": 8,
   "metadata": {},
   "outputs": [],
   "source": [
    "from torch.utils.data import DataLoader\n",
    "import pandas as pd\n",
    "\n",
    "train_df = pd.read_csv(\"train2.csv\", encoding=\"utf-8\")\n",
    "val_df = pd.read_csv(\"val2.csv\", encoding=\"utf-8\")\n",
    "\n",
    "train_dataset = EvalOnlyChessDataset(train_df)\n",
    "val_dataset = EvalOnlyChessDataset(val_df)\n",
    "\n",
    "BATCH_SIZE = 512\n",
    "\n",
    "train_loader = DataLoader(train_dataset, batch_size=BATCH_SIZE, shuffle=True, num_workers=0, pin_memory=True)\n",
    "val_loader = DataLoader(val_dataset, batch_size=BATCH_SIZE, shuffle=False, num_workers=0, pin_memory=True)"
   ]
  },
  {
   "cell_type": "markdown",
   "metadata": {},
   "source": [
    "# ARCHITECTURE"
   ]
  },
  {
   "cell_type": "code",
   "execution_count": 9,
   "metadata": {},
   "outputs": [],
   "source": [
    "import torch\n",
    "import torch.nn as nn\n",
    "import torch.nn.functional as F\n",
    "\n",
    "class ResidualBlock(nn.Module):\n",
    "    def __init__(self, channels, dropout=0.1):\n",
    "        super().__init__()\n",
    "        self.conv1 = nn.Conv2d(channels, channels, kernel_size=3, padding=1)\n",
    "        self.bn1 = nn.BatchNorm2d(channels)\n",
    "        self.conv2 = nn.Conv2d(channels, channels, kernel_size=3, padding=1)\n",
    "        self.bn2 = nn.BatchNorm2d(channels)\n",
    "        self.dropout = nn.Dropout2d(dropout)\n",
    "\n",
    "    def forward(self, x):\n",
    "        residual = x\n",
    "        out = F.leaky_relu(self.bn1(self.conv1(x)))\n",
    "        out = self.dropout(out)\n",
    "        out = self.bn2(self.conv2(out))\n",
    "        return F.leaky_relu(out + residual)\n",
    "\n",
    "class EvalResNet(nn.Module):\n",
    "    def __init__(self):\n",
    "        super().__init__()\n",
    "        self.initial = nn.Sequential(\n",
    "            nn.Conv2d(20, 64, kernel_size=3, padding=1),\n",
    "            nn.BatchNorm2d(64),\n",
    "            nn.LeakyReLU()\n",
    "        )\n",
    "\n",
    "        self.resblock1 = nn.Sequential(\n",
    "            ResidualBlock(64),\n",
    "            ResidualBlock(64)\n",
    "        )\n",
    "\n",
    "        self.downsample = nn.Sequential(\n",
    "            nn.Conv2d(64, 128, kernel_size=3, stride=2, padding=1),\n",
    "            nn.BatchNorm2d(128),\n",
    "            nn.LeakyReLU()\n",
    "        )\n",
    "\n",
    "        self.resblock2 = nn.Sequential(\n",
    "            ResidualBlock(128),\n",
    "            ResidualBlock(128)\n",
    "        )\n",
    "\n",
    "        self.global_pool = nn.AdaptiveAvgPool2d((1, 1)) \n",
    "\n",
    "        self.fc = nn.Sequential(\n",
    "            nn.Flatten(),\n",
    "            nn.Linear(128, 128),\n",
    "            nn.LeakyReLU(),\n",
    "            nn.Dropout(0.5),\n",
    "            nn.Linear(128, 1),\n",
    "            nn.Tanh()  # Output ∈ [-1, 1]\n",
    "        )\n",
    "\n",
    "    def forward(self, x):\n",
    "        x = self.initial(x)\n",
    "        x = self.resblock1(x)\n",
    "        x = self.downsample(x)\n",
    "        x = self.resblock2(x)\n",
    "        x = self.global_pool(x)\n",
    "        x = self.fc(x)\n",
    "        return x.squeeze(1)\n"
   ]
  },
  {
   "cell_type": "markdown",
   "metadata": {},
   "source": [
    "# TRAINING"
   ]
  },
  {
   "cell_type": "code",
   "execution_count": 10,
   "metadata": {},
   "outputs": [
    {
     "name": "stderr",
     "output_type": "stream",
     "text": [
      "                                                                                 \r"
     ]
    },
    {
     "name": "stdout",
     "output_type": "stream",
     "text": [
      "✅ Saved new best model at epoch 1 with val loss 0.0476\n",
      "\n",
      "Epoch 1 completed.\n",
      "Train Loss: 0.0696 | Val Loss: 0.0476\n"
     ]
    },
    {
     "name": "stderr",
     "output_type": "stream",
     "text": [
      "                                                                                 \r"
     ]
    },
    {
     "name": "stdout",
     "output_type": "stream",
     "text": [
      "\n",
      "Epoch 2 completed.\n",
      "Train Loss: 0.0486 | Val Loss: 0.0527\n"
     ]
    },
    {
     "name": "stderr",
     "output_type": "stream",
     "text": [
      "                                                                                 \r"
     ]
    },
    {
     "name": "stdout",
     "output_type": "stream",
     "text": [
      "\n",
      "Epoch 3 completed.\n",
      "Train Loss: 0.0452 | Val Loss: 0.0535\n"
     ]
    },
    {
     "name": "stderr",
     "output_type": "stream",
     "text": [
      "                                                                                 \r"
     ]
    },
    {
     "name": "stdout",
     "output_type": "stream",
     "text": [
      "\n",
      "Epoch 4 completed.\n",
      "Train Loss: 0.0431 | Val Loss: 0.0583\n"
     ]
    },
    {
     "name": "stderr",
     "output_type": "stream",
     "text": [
      "                                                                                 \r"
     ]
    },
    {
     "name": "stdout",
     "output_type": "stream",
     "text": [
      "\n",
      "Epoch 5 completed.\n",
      "Train Loss: 0.0416 | Val Loss: 0.0479\n"
     ]
    },
    {
     "name": "stderr",
     "output_type": "stream",
     "text": [
      "                                                                                 \r"
     ]
    },
    {
     "name": "stdout",
     "output_type": "stream",
     "text": [
      "✅ Saved new best model at epoch 6 with val loss 0.0446\n",
      "\n",
      "Epoch 6 completed.\n",
      "Train Loss: 0.0404 | Val Loss: 0.0446\n"
     ]
    },
    {
     "name": "stderr",
     "output_type": "stream",
     "text": [
      "                                                                                 \r"
     ]
    },
    {
     "name": "stdout",
     "output_type": "stream",
     "text": [
      "✅ Saved new best model at epoch 7 with val loss 0.0415\n",
      "\n",
      "Epoch 7 completed.\n",
      "Train Loss: 0.0395 | Val Loss: 0.0415\n"
     ]
    },
    {
     "name": "stderr",
     "output_type": "stream",
     "text": [
      "                                                                                 \r"
     ]
    },
    {
     "name": "stdout",
     "output_type": "stream",
     "text": [
      "✅ Saved new best model at epoch 8 with val loss 0.0388\n",
      "\n",
      "Epoch 8 completed.\n",
      "Train Loss: 0.0386 | Val Loss: 0.0388\n"
     ]
    },
    {
     "name": "stderr",
     "output_type": "stream",
     "text": [
      "                                                                                 \r"
     ]
    },
    {
     "name": "stdout",
     "output_type": "stream",
     "text": [
      "\n",
      "Epoch 9 completed.\n",
      "Train Loss: 0.0380 | Val Loss: 0.0432\n"
     ]
    },
    {
     "name": "stderr",
     "output_type": "stream",
     "text": [
      "                                                                                  \r"
     ]
    },
    {
     "name": "stdout",
     "output_type": "stream",
     "text": [
      "✅ Saved new best model at epoch 10 with val loss 0.0381\n",
      "\n",
      "Epoch 10 completed.\n",
      "Train Loss: 0.0376 | Val Loss: 0.0381\n"
     ]
    },
    {
     "name": "stderr",
     "output_type": "stream",
     "text": [
      "                                                                                  \r"
     ]
    },
    {
     "name": "stdout",
     "output_type": "stream",
     "text": [
      "✅ Saved new best model at epoch 11 with val loss 0.0345\n",
      "\n",
      "Epoch 11 completed.\n",
      "Train Loss: 0.0372 | Val Loss: 0.0345\n"
     ]
    },
    {
     "name": "stderr",
     "output_type": "stream",
     "text": [
      "                                                                                  \r"
     ]
    },
    {
     "name": "stdout",
     "output_type": "stream",
     "text": [
      "\n",
      "Epoch 12 completed.\n",
      "Train Loss: 0.0369 | Val Loss: 0.0503\n"
     ]
    },
    {
     "name": "stderr",
     "output_type": "stream",
     "text": [
      "                                                                                  \r"
     ]
    },
    {
     "name": "stdout",
     "output_type": "stream",
     "text": [
      "\n",
      "Epoch 13 completed.\n",
      "Train Loss: 0.0367 | Val Loss: 0.0423\n"
     ]
    },
    {
     "name": "stderr",
     "output_type": "stream",
     "text": [
      "                                                                                  \r"
     ]
    },
    {
     "name": "stdout",
     "output_type": "stream",
     "text": [
      "✅ Saved new best model at epoch 14 with val loss 0.0339\n",
      "\n",
      "Epoch 14 completed.\n",
      "Train Loss: 0.0365 | Val Loss: 0.0339\n"
     ]
    },
    {
     "name": "stderr",
     "output_type": "stream",
     "text": [
      "                                                                                  "
     ]
    },
    {
     "name": "stdout",
     "output_type": "stream",
     "text": [
      "✅ Saved new best model at epoch 15 with val loss 0.0334\n",
      "\n",
      "Epoch 15 completed.\n",
      "Train Loss: 0.0362 | Val Loss: 0.0334\n"
     ]
    },
    {
     "name": "stderr",
     "output_type": "stream",
     "text": [
      "\r"
     ]
    }
   ],
   "source": [
    "from torch.utils.data import DataLoader\n",
    "import torch.optim as optim\n",
    "from tqdm import tqdm\n",
    "\n",
    "model = EvalResNet().to(device)\n",
    "optimizer = optim.Adam(model.parameters(), lr=0.001, weight_decay=1e-4)\n",
    "criterion = nn.MSELoss()\n",
    "EPOCHS = 15\n",
    "best_val_loss = float('inf')\n",
    "\n",
    "for epoch in range(EPOCHS):\n",
    "    model.train()\n",
    "    train_loss = 0.0\n",
    "    train_bar = tqdm(train_loader, desc=f\"Epoch {epoch+1} [Train]\", leave=False)\n",
    "    \n",
    "    for inputs, targets in train_bar:\n",
    "        inputs, targets = inputs.to(device), targets.to(device)\n",
    "\n",
    "        optimizer.zero_grad()\n",
    "        preds = model(inputs)\n",
    "\n",
    "        loss = criterion(preds, targets)\n",
    "        loss.backward()\n",
    "        optimizer.step()\n",
    "\n",
    "        train_loss += loss.item() * inputs.size(0)\n",
    "        train_bar.set_postfix({'loss': loss.item()})\n",
    "\n",
    "    avg_train_loss = train_loss / len(train_loader.dataset)\n",
    "\n",
    "    # Validation\n",
    "    model.eval()\n",
    "    val_loss = 0.0\n",
    "    val_bar = tqdm(val_loader, desc=f\"Epoch {epoch+1} [Val]\", leave=False)\n",
    "\n",
    "    with torch.no_grad():\n",
    "        for inputs, targets in val_bar:\n",
    "            inputs, targets = inputs.to(device), targets.to(device)\n",
    "            preds = model(inputs)\n",
    "            loss = criterion(preds, targets)\n",
    "            val_loss += loss.item() * inputs.size(0)\n",
    "            val_bar.set_postfix({'val_loss': loss.item()})\n",
    "\n",
    "    avg_val_loss = val_loss / len(val_loader.dataset)\n",
    "\n",
    "    if avg_val_loss < best_val_loss:\n",
    "        best_val_loss = avg_val_loss\n",
    "        torch.save(model.state_dict(), \"eval_only_bestMSE.pth\")\n",
    "        print(f\"Sacuvao novi model u epohi {epoch+1} sa val loss-om od {avg_val_loss:.4f}\")\n",
    "\n",
    "    print(f\"\\nEpoha {epoch+1} gotova.\")\n",
    "    print(f\"Train Loss: {avg_train_loss:.4f} | Val Loss: {avg_val_loss:.4f}\")\n"
   ]
  },
  {
   "cell_type": "code",
   "execution_count": 11,
   "metadata": {},
   "outputs": [],
   "source": [
    "# PODACI ZA GRAFIKE\n",
    "\n",
    "# L1 DATA - LOSI PODACI (kod za podatke) PA JE I MREZA BILA LOSA:\n",
    "\n",
    "l1_train_loss = [0.0267, 0.0148, 0.0127, 0.0134, 0.0085, 0.0070]\n",
    "l1_val_loss = [0.0128, 0.0065, 0.0006, 0.0002, 0.0230, 0.0025]\n",
    "\n",
    "\n",
    "\n",
    "### MSE DATA:\n",
    "mse_train_loss = [0.0696, 0.0486, 0.0431, 0.0416, 0.404, 0.395, 0.0386, 0.0380, 0.0376, 0.0372, 0.0369, 0.0367, 0.0365, 0.0362]\n",
    "mse_val_loss = [0.0476, 0.0527, 0.0535, 0.0583, 0.0479, 0.0446, 0.0415, 0.0388, 0.0432, 0.0381, 0.0345, 0.0503, 0.0423, 0.0339, 0.334]\n"
   ]
  }
 ],
 "metadata": {
  "kernelspec": {
   "display_name": "Python 3",
   "language": "python",
   "name": "python3"
  },
  "language_info": {
   "codemirror_mode": {
    "name": "ipython",
    "version": 3
   },
   "file_extension": ".py",
   "mimetype": "text/x-python",
   "name": "python",
   "nbconvert_exporter": "python",
   "pygments_lexer": "ipython3",
   "version": "3.13.2"
  }
 },
 "nbformat": 4,
 "nbformat_minor": 2
}
